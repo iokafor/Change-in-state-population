{
  "nbformat": 4,
  "nbformat_minor": 0,
  "metadata": {
    "colab": {
      "name": "State Growth.ipynb",
      "provenance": [],
      "authorship_tag": "ABX9TyNvw5MuvYlaBnOtC6t0LdtD",
      "include_colab_link": true
    },
    "kernelspec": {
      "name": "python3",
      "display_name": "Python 3"
    }
  },
  "cells": [
    {
      "cell_type": "markdown",
      "metadata": {
        "id": "view-in-github",
        "colab_type": "text"
      },
      "source": [
        "<a href=\"https://colab.research.google.com/github/iokafor/Change-in-state-population/blob/main/State_Growth.ipynb\" target=\"_parent\"><img src=\"https://colab.research.google.com/assets/colab-badge.svg\" alt=\"Open In Colab\"/></a>"
      ]
    },
    {
      "cell_type": "markdown",
      "metadata": {
        "id": "Q8aDOMfeqU4u"
      },
      "source": [
        "# An Analysis of US state population growth rate "
      ]
    },
    {
      "cell_type": "code",
      "metadata": {
        "id": "OEnbyd5nqSHi"
      },
      "source": [
        "# import libraries for data analysis\n",
        "import pandas as pd\n",
        "\n",
        "\n",
        "# for data viz\n",
        "import plotly.express as px\n",
        "import matplotlib.pyplot as plt\n",
        "\n",
        "# to export files\n",
        "from google.colab import files"
      ],
      "execution_count": 37,
      "outputs": []
    },
    {
      "cell_type": "code",
      "metadata": {
        "id": "9uLy-mRPq6qW"
      },
      "source": [
        "# Import State population Data\n",
        "\n",
        "df_US_state_Population_data = pd.read_csv('https://raw.githubusercontent.com/iokafor/Change-in-state-population/main/State%20Population%20data_Cleaned.csv')"
      ],
      "execution_count": 38,
      "outputs": []
    },
    {
      "cell_type": "code",
      "metadata": {
        "colab": {
          "base_uri": "https://localhost:8080/",
          "height": 204
        },
        "id": "uAF4x9Y0GCM3",
        "outputId": "0d0b06f6-b663-4b17-eee6-a565f3cfe9c6"
      },
      "source": [
        "df_US_state_Population_data.head()"
      ],
      "execution_count": null,
      "outputs": [
        {
          "output_type": "execute_result",
          "data": {
            "text/html": [
              "<div>\n",
              "<style scoped>\n",
              "    .dataframe tbody tr th:only-of-type {\n",
              "        vertical-align: middle;\n",
              "    }\n",
              "\n",
              "    .dataframe tbody tr th {\n",
              "        vertical-align: top;\n",
              "    }\n",
              "\n",
              "    .dataframe thead th {\n",
              "        text-align: right;\n",
              "    }\n",
              "</style>\n",
              "<table border=\"1\" class=\"dataframe\">\n",
              "  <thead>\n",
              "    <tr style=\"text-align: right;\">\n",
              "      <th></th>\n",
              "      <th>Unnamed: 0</th>\n",
              "      <th>2010</th>\n",
              "      <th>2011</th>\n",
              "      <th>2012</th>\n",
              "      <th>2013</th>\n",
              "      <th>2014</th>\n",
              "      <th>2015</th>\n",
              "      <th>2016</th>\n",
              "      <th>2017</th>\n",
              "      <th>2018</th>\n",
              "      <th>2019</th>\n",
              "    </tr>\n",
              "  </thead>\n",
              "  <tbody>\n",
              "    <tr>\n",
              "      <th>0</th>\n",
              "      <td>United States</td>\n",
              "      <td>309321666</td>\n",
              "      <td>311556874</td>\n",
              "      <td>313830990</td>\n",
              "      <td>315993715</td>\n",
              "      <td>318301008</td>\n",
              "      <td>320635163</td>\n",
              "      <td>322941311</td>\n",
              "      <td>324985539</td>\n",
              "      <td>326687501</td>\n",
              "      <td>328239523</td>\n",
              "    </tr>\n",
              "    <tr>\n",
              "      <th>1</th>\n",
              "      <td>Northeast</td>\n",
              "      <td>55380134</td>\n",
              "      <td>55604223</td>\n",
              "      <td>55775216</td>\n",
              "      <td>55901806</td>\n",
              "      <td>56006011</td>\n",
              "      <td>56034684</td>\n",
              "      <td>56042330</td>\n",
              "      <td>56059240</td>\n",
              "      <td>56046620</td>\n",
              "      <td>55982803</td>\n",
              "    </tr>\n",
              "    <tr>\n",
              "      <th>2</th>\n",
              "      <td>Midwest</td>\n",
              "      <td>66974416</td>\n",
              "      <td>67157800</td>\n",
              "      <td>67336743</td>\n",
              "      <td>67560379</td>\n",
              "      <td>67745167</td>\n",
              "      <td>67860583</td>\n",
              "      <td>67987540</td>\n",
              "      <td>68126781</td>\n",
              "      <td>68236628</td>\n",
              "      <td>68329004</td>\n",
              "    </tr>\n",
              "    <tr>\n",
              "      <th>3</th>\n",
              "      <td>South</td>\n",
              "      <td>114866680</td>\n",
              "      <td>116006522</td>\n",
              "      <td>117241208</td>\n",
              "      <td>118364400</td>\n",
              "      <td>119624037</td>\n",
              "      <td>120997341</td>\n",
              "      <td>122351760</td>\n",
              "      <td>123542189</td>\n",
              "      <td>124569433</td>\n",
              "      <td>125580448</td>\n",
              "    </tr>\n",
              "    <tr>\n",
              "      <th>4</th>\n",
              "      <td>West</td>\n",
              "      <td>72100436</td>\n",
              "      <td>72788329</td>\n",
              "      <td>73477823</td>\n",
              "      <td>74167130</td>\n",
              "      <td>74925793</td>\n",
              "      <td>75742555</td>\n",
              "      <td>76559681</td>\n",
              "      <td>77257329</td>\n",
              "      <td>77834820</td>\n",
              "      <td>78347268</td>\n",
              "    </tr>\n",
              "  </tbody>\n",
              "</table>\n",
              "</div>"
            ],
            "text/plain": [
              "      Unnamed: 0       2010       2011  ...       2017       2018       2019\n",
              "0  United States  309321666  311556874  ...  324985539  326687501  328239523\n",
              "1      Northeast   55380134   55604223  ...   56059240   56046620   55982803\n",
              "2        Midwest   66974416   67157800  ...   68126781   68236628   68329004\n",
              "3          South  114866680  116006522  ...  123542189  124569433  125580448\n",
              "4           West   72100436   72788329  ...   77257329   77834820   78347268\n",
              "\n",
              "[5 rows x 11 columns]"
            ]
          },
          "metadata": {
            "tags": []
          },
          "execution_count": 5
        }
      ]
    },
    {
      "cell_type": "code",
      "metadata": {
        "colab": {
          "base_uri": "https://localhost:8080/"
        },
        "id": "UJEqmwKe7ps9",
        "outputId": "2de9d692-b442-45cf-d74e-73d9dadc94dd"
      },
      "source": [
        "# Check data types before doing calculation of growth rate for each state/region\n",
        "print(df_US_state_Population_data.dtypes)"
      ],
      "execution_count": 39,
      "outputs": [
        {
          "output_type": "stream",
          "text": [
            "Unnamed: 0    object\n",
            "2010           int64\n",
            "2011           int64\n",
            "2012           int64\n",
            "2013           int64\n",
            "2014           int64\n",
            "2015           int64\n",
            "2016           int64\n",
            "2017           int64\n",
            "2018           int64\n",
            "2019           int64\n",
            "dtype: object\n"
          ],
          "name": "stdout"
        }
      ]
    },
    {
      "cell_type": "code",
      "metadata": {
        "id": "W-57vThnDsR1"
      },
      "source": [
        "Number_of_years = 9"
      ],
      "execution_count": 40,
      "outputs": []
    },
    {
      "cell_type": "code",
      "metadata": {
        "id": "J6ECL7nbCO-H"
      },
      "source": [
        "#Calculate percent change\n",
        "\n",
        "df_US_state_Population_data['Present - Past'] = df_US_state_Population_data [ '2019'] - df_US_state_Population_data [ '2010']\n",
        "df_US_state_Population_data['Difference * 1/Number_of_years'] = df_US_state_Population_data['Present - Past'] * (1/Number_of_years) \n",
        "df_US_state_Population_data['Growth_rate'] = df_US_state_Population_data['Difference * 1/Number_of_years'] - 1\n",
        "df_US_state_Population_data['Percent_change'] = df_US_state_Population_data['Growth_rate'] * 100"
      ],
      "execution_count": 41,
      "outputs": []
    },
    {
      "cell_type": "code",
      "metadata": {
        "id": "OEYqKNtJE4Uy"
      },
      "source": [
        "#Sort data frame by percent change\n",
        "df_US_state_Population_data_Sorted = df_US_state_Population_data.sort_values(by = 'Percent_change')\n",
        "\n"
      ],
      "execution_count": 44,
      "outputs": []
    },
    {
      "cell_type": "code",
      "metadata": {
        "colab": {
          "base_uri": "https://localhost:8080/",
          "height": 51
        },
        "id": "loL7ZOuCM5CT",
        "outputId": "abf1addb-8f62-4068-e5a8-0d507640166c"
      },
      "source": [
        "# creating plot\n"
      ],
      "execution_count": 62,
      "outputs": [
        {
          "output_type": "execute_result",
          "data": {
            "text/plain": [
              "<Figure size 360x432 with 0 Axes>"
            ]
          },
          "metadata": {
            "tags": []
          },
          "execution_count": 62
        },
        {
          "output_type": "display_data",
          "data": {
            "text/plain": [
              "<Figure size 360x432 with 0 Axes>"
            ]
          },
          "metadata": {
            "tags": []
          }
        }
      ]
    },
    {
      "cell_type": "code",
      "metadata": {
        "colab": {
          "base_uri": "https://localhost:8080/",
          "height": 627
        },
        "id": "dA6NzmhgGpgp",
        "outputId": "4434fc0c-ca10-4de1-aa65-e04bcfc56005"
      },
      "source": [
        "#Plot Growth rate of US states\n",
        "plt.figure(figsize=(6,10))\n",
        "plt.barh(\"Unnamed: 0\", \"Percent_change\" , data = df_US_state_Population_data_Sorted , Color = \"red\")\n",
        "plt.xlabel(\"Growth Rate\")\n",
        "plt.xticks(fontsize=16)\n",
        "plt.ylabel(\"State/Region\")\n",
        "plt.yticks(fontsize= 8)\n",
        "plt.title(\"Percent Change in Population by US State/Region\")\n",
        "plt.show()\n",
        "\n"
      ],
      "execution_count": 75,
      "outputs": [
        {
          "output_type": "display_data",
          "data": {
            "image/png": "[encoded data removed]",
            "text/plain": [
              "<Figure size 432x720 with 1 Axes>"
            ]
          },
          "metadata": {
            "tags": [],
            "needs_background": "light"
          }
        }
      ]
    },
    {
      "cell_type": "code",
      "metadata": {
        "id": "ZTgLW8rBN-f1"
      },
      "source": [
        ""
      ],
      "execution_count": null,
      "outputs": []
    }
  ]
}